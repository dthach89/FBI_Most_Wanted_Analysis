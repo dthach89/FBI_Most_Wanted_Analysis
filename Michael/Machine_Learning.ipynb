{
 "cells": [
  {
   "cell_type": "code",
   "execution_count": 136,
   "metadata": {},
   "outputs": [],
   "source": [
    "# Import our dependencies\n",
    "import pandas as pd\n",
    "import matplotlib as plt\n",
    "import sklearn as skl\n",
    "import tensorflow as tf\n",
    "from sklearn.preprocessing import StandardScaler\n",
    "from sklearn.linear_model import LogisticRegression\n",
    "from sklearn.preprocessing import OneHotEncoder\n",
    "from sklearn.ensemble import RandomForestClassifier\n",
    "from sklearn.metrics import accuracy_score\n",
    "from sklearn.model_selection import train_test_split"
   ]
  },
  {
   "cell_type": "code",
   "execution_count": 114,
   "metadata": {},
   "outputs": [
    {
     "data": {
      "text/html": [
       "<div>\n",
       "<style scoped>\n",
       "    .dataframe tbody tr th:only-of-type {\n",
       "        vertical-align: middle;\n",
       "    }\n",
       "\n",
       "    .dataframe tbody tr th {\n",
       "        vertical-align: top;\n",
       "    }\n",
       "\n",
       "    .dataframe thead th {\n",
       "        text-align: right;\n",
       "    }\n",
       "</style>\n",
       "<table border=\"1\" class=\"dataframe\">\n",
       "  <thead>\n",
       "    <tr style=\"text-align: right;\">\n",
       "      <th></th>\n",
       "      <th>index</th>\n",
       "      <th>age</th>\n",
       "      <th>job</th>\n",
       "      <th>marital</th>\n",
       "      <th>education</th>\n",
       "      <th>credit_default</th>\n",
       "      <th>balance</th>\n",
       "      <th>housing_loan</th>\n",
       "      <th>personal_loan</th>\n",
       "      <th>contact</th>\n",
       "      <th>day</th>\n",
       "      <th>month</th>\n",
       "      <th>duration(sec)</th>\n",
       "      <th>campaign</th>\n",
       "      <th>pdays</th>\n",
       "      <th>previous</th>\n",
       "      <th>poutcome</th>\n",
       "      <th>subscription</th>\n",
       "    </tr>\n",
       "  </thead>\n",
       "  <tbody>\n",
       "    <tr>\n",
       "      <th>0</th>\n",
       "      <td>0</td>\n",
       "      <td>58</td>\n",
       "      <td>management</td>\n",
       "      <td>married</td>\n",
       "      <td>tertiary</td>\n",
       "      <td>no\"\"</td>\n",
       "      <td>2143</td>\n",
       "      <td>yes\"\"</td>\n",
       "      <td>no\"\"</td>\n",
       "      <td>unknown</td>\n",
       "      <td>5</td>\n",
       "      <td>may\"\"</td>\n",
       "      <td>261</td>\n",
       "      <td>1</td>\n",
       "      <td>-1</td>\n",
       "      <td>0</td>\n",
       "      <td>unknown</td>\n",
       "      <td>no\"\"</td>\n",
       "    </tr>\n",
       "    <tr>\n",
       "      <th>1</th>\n",
       "      <td>1</td>\n",
       "      <td>44</td>\n",
       "      <td>technician</td>\n",
       "      <td>single</td>\n",
       "      <td>secondary</td>\n",
       "      <td>no\"\"</td>\n",
       "      <td>29</td>\n",
       "      <td>yes\"\"</td>\n",
       "      <td>no\"\"</td>\n",
       "      <td>unknown</td>\n",
       "      <td>5</td>\n",
       "      <td>may\"\"</td>\n",
       "      <td>151</td>\n",
       "      <td>1</td>\n",
       "      <td>-1</td>\n",
       "      <td>0</td>\n",
       "      <td>unknown</td>\n",
       "      <td>no\"\"</td>\n",
       "    </tr>\n",
       "    <tr>\n",
       "      <th>2</th>\n",
       "      <td>2</td>\n",
       "      <td>33</td>\n",
       "      <td>entrepreneur</td>\n",
       "      <td>married</td>\n",
       "      <td>secondary</td>\n",
       "      <td>no\"\"</td>\n",
       "      <td>2</td>\n",
       "      <td>yes\"\"</td>\n",
       "      <td>yes\"\"</td>\n",
       "      <td>unknown</td>\n",
       "      <td>5</td>\n",
       "      <td>may\"\"</td>\n",
       "      <td>76</td>\n",
       "      <td>1</td>\n",
       "      <td>-1</td>\n",
       "      <td>0</td>\n",
       "      <td>unknown</td>\n",
       "      <td>no\"\"</td>\n",
       "    </tr>\n",
       "    <tr>\n",
       "      <th>3</th>\n",
       "      <td>3</td>\n",
       "      <td>47</td>\n",
       "      <td>blue-collar</td>\n",
       "      <td>married</td>\n",
       "      <td>unknown</td>\n",
       "      <td>no\"\"</td>\n",
       "      <td>1506</td>\n",
       "      <td>yes\"\"</td>\n",
       "      <td>no\"\"</td>\n",
       "      <td>unknown</td>\n",
       "      <td>5</td>\n",
       "      <td>may\"\"</td>\n",
       "      <td>92</td>\n",
       "      <td>1</td>\n",
       "      <td>-1</td>\n",
       "      <td>0</td>\n",
       "      <td>unknown</td>\n",
       "      <td>no\"\"</td>\n",
       "    </tr>\n",
       "    <tr>\n",
       "      <th>4</th>\n",
       "      <td>4</td>\n",
       "      <td>33</td>\n",
       "      <td>unknown</td>\n",
       "      <td>single</td>\n",
       "      <td>unknown</td>\n",
       "      <td>no\"\"</td>\n",
       "      <td>1</td>\n",
       "      <td>no\"\"</td>\n",
       "      <td>no\"\"</td>\n",
       "      <td>unknown</td>\n",
       "      <td>5</td>\n",
       "      <td>may\"\"</td>\n",
       "      <td>198</td>\n",
       "      <td>1</td>\n",
       "      <td>-1</td>\n",
       "      <td>0</td>\n",
       "      <td>unknown</td>\n",
       "      <td>no\"\"</td>\n",
       "    </tr>\n",
       "  </tbody>\n",
       "</table>\n",
       "</div>"
      ],
      "text/plain": [
       "   index  age           job  marital  education credit_default  balance  \\\n",
       "0      0   58    management  married   tertiary           no\"\"     2143   \n",
       "1      1   44    technician   single  secondary           no\"\"       29   \n",
       "2      2   33  entrepreneur  married  secondary           no\"\"        2   \n",
       "3      3   47   blue-collar  married    unknown           no\"\"     1506   \n",
       "4      4   33       unknown   single    unknown           no\"\"        1   \n",
       "\n",
       "  housing_loan personal_loan  contact  day  month  duration(sec)  campaign  \\\n",
       "0        yes\"\"          no\"\"  unknown    5  may\"\"            261         1   \n",
       "1        yes\"\"          no\"\"  unknown    5  may\"\"            151         1   \n",
       "2        yes\"\"         yes\"\"  unknown    5  may\"\"             76         1   \n",
       "3        yes\"\"          no\"\"  unknown    5  may\"\"             92         1   \n",
       "4         no\"\"          no\"\"  unknown    5  may\"\"            198         1   \n",
       "\n",
       "   pdays  previous poutcome subscription  \n",
       "0     -1         0  unknown         no\"\"  \n",
       "1     -1         0  unknown         no\"\"  \n",
       "2     -1         0  unknown         no\"\"  \n",
       "3     -1         0  unknown         no\"\"  \n",
       "4     -1         0  unknown         no\"\"  "
      ]
     },
     "execution_count": 114,
     "metadata": {},
     "output_type": "execute_result"
    }
   ],
   "source": [
    "# make dataframe from csv\n",
    "bank_df = pd.read_csv(\"bank-full.csv\")\n",
    "bank_df.head()"
   ]
  },
  {
   "cell_type": "code",
   "execution_count": 115,
   "metadata": {},
   "outputs": [
    {
     "data": {
      "text/plain": [
       "['job',\n",
       " 'marital',\n",
       " 'education',\n",
       " 'credit_default',\n",
       " 'housing_loan',\n",
       " 'personal_loan',\n",
       " 'contact',\n",
       " 'month',\n",
       " 'poutcome',\n",
       " 'subscription']"
      ]
     },
     "execution_count": 115,
     "metadata": {},
     "output_type": "execute_result"
    }
   ],
   "source": [
    "bank_list=[]\n",
    "bank_list=list(bank_df.select_dtypes(include=['object']).columns)\n",
    "bank_list"
   ]
  },
  {
   "cell_type": "code",
   "execution_count": 116,
   "metadata": {},
   "outputs": [
    {
     "data": {
      "text/plain": [
       "job               12\n",
       "marital            3\n",
       "education          4\n",
       "credit_default     2\n",
       "housing_loan       2\n",
       "personal_loan      2\n",
       "contact            3\n",
       "month             12\n",
       "poutcome           4\n",
       "subscription       2\n",
       "dtype: int64"
      ]
     },
     "execution_count": 116,
     "metadata": {},
     "output_type": "execute_result"
    }
   ],
   "source": [
    "thing =bank_df[bank_list].nunique()\n",
    "thing"
   ]
  },
  {
   "cell_type": "code",
   "execution_count": 117,
   "metadata": {},
   "outputs": [],
   "source": [
    "bank_list_binary = ['credit_default','housing_loan','personal_loan','subscription']\n"
   ]
  },
  {
   "cell_type": "code",
   "execution_count": 118,
   "metadata": {},
   "outputs": [
    {
     "name": "stdout",
     "output_type": "stream",
     "text": [
      "   index  age           job  marital  education  credit_default  balance  \\\n",
      "0      0   58    management  married   tertiary           False     2143   \n",
      "1      1   44    technician   single  secondary           False       29   \n",
      "2      2   33  entrepreneur  married  secondary           False        2   \n",
      "3      3   47   blue-collar  married    unknown           False     1506   \n",
      "4      4   33       unknown   single    unknown           False        1   \n",
      "\n",
      "   housing_loan  personal_loan  contact  day  month  duration(sec)  campaign  \\\n",
      "0          True          False  unknown    5  may\"\"            261         1   \n",
      "1          True          False  unknown    5  may\"\"            151         1   \n",
      "2          True           True  unknown    5  may\"\"             76         1   \n",
      "3          True          False  unknown    5  may\"\"             92         1   \n",
      "4         False          False  unknown    5  may\"\"            198         1   \n",
      "\n",
      "   pdays  previous poutcome  subscription  \n",
      "0     -1         0  unknown         False  \n",
      "1     -1         0  unknown         False  \n",
      "2     -1         0  unknown         False  \n",
      "3     -1         0  unknown         False  \n",
      "4     -1         0  unknown         False  \n"
     ]
    },
    {
     "data": {
      "text/plain": [
       "job               12\n",
       "marital            3\n",
       "education          4\n",
       "credit_default     2\n",
       "housing_loan       2\n",
       "personal_loan      2\n",
       "contact            3\n",
       "month             12\n",
       "poutcome           4\n",
       "subscription       2\n",
       "dtype: int64"
      ]
     },
     "execution_count": 118,
     "metadata": {},
     "output_type": "execute_result"
    }
   ],
   "source": [
    "# changing data type of binary choices from object to bool\n",
    "for x in bank_list_binary:\n",
    "    bank_df[x]=bank_df[x]==\"yes\\\"\\\"\"\n",
    "print(bank_df.head())\n",
    "bank_df[bank_list].nunique()"
   ]
  },
  {
   "cell_type": "code",
   "execution_count": 119,
   "metadata": {},
   "outputs": [],
   "source": [
    "# dropping uneeded columns\n",
    "bank_df.drop('index',axis=1, inplace=True)"
   ]
  },
  {
   "cell_type": "markdown",
   "metadata": {},
   "source": [
    "propbaly should run factoranalysis.\n",
    "or dimensionality reductions via principal componet analysis."
   ]
  },
  {
   "cell_type": "code",
   "execution_count": 120,
   "metadata": {},
   "outputs": [
    {
     "data": {
      "text/plain": [
       "['job', 'marital', 'education', 'contact', 'month', 'poutcome']"
      ]
     },
     "execution_count": 120,
     "metadata": {},
     "output_type": "execute_result"
    }
   ],
   "source": [
    "bank_list=[]\n",
    "bank_list=list(bank_df.select_dtypes(include=['object']).columns)\n",
    "bank_list"
   ]
  },
  {
   "cell_type": "code",
   "execution_count": 121,
   "metadata": {},
   "outputs": [
    {
     "data": {
      "text/plain": [
       "job          12\n",
       "marital       3\n",
       "education     4\n",
       "contact       3\n",
       "month        12\n",
       "poutcome      4\n",
       "dtype: int64"
      ]
     },
     "execution_count": 121,
     "metadata": {},
     "output_type": "execute_result"
    }
   ],
   "source": [
    "bank_df[bank_list].nunique()"
   ]
  },
  {
   "cell_type": "code",
   "execution_count": 122,
   "metadata": {},
   "outputs": [
    {
     "name": "stderr",
     "output_type": "stream",
     "text": [
      "c:\\Users\\rab_b\\anaconda3\\lib\\site-packages\\sklearn\\utils\\deprecation.py:87: FutureWarning: Function get_feature_names is deprecated; get_feature_names is deprecated in 1.0 and will be removed in 1.2. Please use get_feature_names_out instead.\n",
      "  warnings.warn(msg, category=FutureWarning)\n"
     ]
    },
    {
     "data": {
      "text/html": [
       "<div>\n",
       "<style scoped>\n",
       "    .dataframe tbody tr th:only-of-type {\n",
       "        vertical-align: middle;\n",
       "    }\n",
       "\n",
       "    .dataframe tbody tr th {\n",
       "        vertical-align: top;\n",
       "    }\n",
       "\n",
       "    .dataframe thead th {\n",
       "        text-align: right;\n",
       "    }\n",
       "</style>\n",
       "<table border=\"1\" class=\"dataframe\">\n",
       "  <thead>\n",
       "    <tr style=\"text-align: right;\">\n",
       "      <th></th>\n",
       "      <th>job_admin.</th>\n",
       "      <th>job_blue-collar</th>\n",
       "      <th>job_entrepreneur</th>\n",
       "      <th>job_housemaid</th>\n",
       "      <th>job_management</th>\n",
       "      <th>job_retired</th>\n",
       "      <th>job_self-employed</th>\n",
       "      <th>job_services</th>\n",
       "      <th>job_student</th>\n",
       "      <th>job_technician</th>\n",
       "      <th>...</th>\n",
       "      <th>month_jun\"\"</th>\n",
       "      <th>month_mar\"\"</th>\n",
       "      <th>month_may\"\"</th>\n",
       "      <th>month_nov\"\"</th>\n",
       "      <th>month_oct\"\"</th>\n",
       "      <th>month_sep\"\"</th>\n",
       "      <th>poutcome_failure\"\"</th>\n",
       "      <th>poutcome_other\"\"</th>\n",
       "      <th>poutcome_success\"\"</th>\n",
       "      <th>poutcome_unknown</th>\n",
       "    </tr>\n",
       "  </thead>\n",
       "  <tbody>\n",
       "    <tr>\n",
       "      <th>0</th>\n",
       "      <td>0.0</td>\n",
       "      <td>0.0</td>\n",
       "      <td>0.0</td>\n",
       "      <td>0.0</td>\n",
       "      <td>1.0</td>\n",
       "      <td>0.0</td>\n",
       "      <td>0.0</td>\n",
       "      <td>0.0</td>\n",
       "      <td>0.0</td>\n",
       "      <td>0.0</td>\n",
       "      <td>...</td>\n",
       "      <td>0.0</td>\n",
       "      <td>0.0</td>\n",
       "      <td>1.0</td>\n",
       "      <td>0.0</td>\n",
       "      <td>0.0</td>\n",
       "      <td>0.0</td>\n",
       "      <td>0.0</td>\n",
       "      <td>0.0</td>\n",
       "      <td>0.0</td>\n",
       "      <td>1.0</td>\n",
       "    </tr>\n",
       "    <tr>\n",
       "      <th>1</th>\n",
       "      <td>0.0</td>\n",
       "      <td>0.0</td>\n",
       "      <td>0.0</td>\n",
       "      <td>0.0</td>\n",
       "      <td>0.0</td>\n",
       "      <td>0.0</td>\n",
       "      <td>0.0</td>\n",
       "      <td>0.0</td>\n",
       "      <td>0.0</td>\n",
       "      <td>1.0</td>\n",
       "      <td>...</td>\n",
       "      <td>0.0</td>\n",
       "      <td>0.0</td>\n",
       "      <td>1.0</td>\n",
       "      <td>0.0</td>\n",
       "      <td>0.0</td>\n",
       "      <td>0.0</td>\n",
       "      <td>0.0</td>\n",
       "      <td>0.0</td>\n",
       "      <td>0.0</td>\n",
       "      <td>1.0</td>\n",
       "    </tr>\n",
       "    <tr>\n",
       "      <th>2</th>\n",
       "      <td>0.0</td>\n",
       "      <td>0.0</td>\n",
       "      <td>1.0</td>\n",
       "      <td>0.0</td>\n",
       "      <td>0.0</td>\n",
       "      <td>0.0</td>\n",
       "      <td>0.0</td>\n",
       "      <td>0.0</td>\n",
       "      <td>0.0</td>\n",
       "      <td>0.0</td>\n",
       "      <td>...</td>\n",
       "      <td>0.0</td>\n",
       "      <td>0.0</td>\n",
       "      <td>1.0</td>\n",
       "      <td>0.0</td>\n",
       "      <td>0.0</td>\n",
       "      <td>0.0</td>\n",
       "      <td>0.0</td>\n",
       "      <td>0.0</td>\n",
       "      <td>0.0</td>\n",
       "      <td>1.0</td>\n",
       "    </tr>\n",
       "    <tr>\n",
       "      <th>3</th>\n",
       "      <td>0.0</td>\n",
       "      <td>1.0</td>\n",
       "      <td>0.0</td>\n",
       "      <td>0.0</td>\n",
       "      <td>0.0</td>\n",
       "      <td>0.0</td>\n",
       "      <td>0.0</td>\n",
       "      <td>0.0</td>\n",
       "      <td>0.0</td>\n",
       "      <td>0.0</td>\n",
       "      <td>...</td>\n",
       "      <td>0.0</td>\n",
       "      <td>0.0</td>\n",
       "      <td>1.0</td>\n",
       "      <td>0.0</td>\n",
       "      <td>0.0</td>\n",
       "      <td>0.0</td>\n",
       "      <td>0.0</td>\n",
       "      <td>0.0</td>\n",
       "      <td>0.0</td>\n",
       "      <td>1.0</td>\n",
       "    </tr>\n",
       "    <tr>\n",
       "      <th>4</th>\n",
       "      <td>0.0</td>\n",
       "      <td>0.0</td>\n",
       "      <td>0.0</td>\n",
       "      <td>0.0</td>\n",
       "      <td>0.0</td>\n",
       "      <td>0.0</td>\n",
       "      <td>0.0</td>\n",
       "      <td>0.0</td>\n",
       "      <td>0.0</td>\n",
       "      <td>0.0</td>\n",
       "      <td>...</td>\n",
       "      <td>0.0</td>\n",
       "      <td>0.0</td>\n",
       "      <td>1.0</td>\n",
       "      <td>0.0</td>\n",
       "      <td>0.0</td>\n",
       "      <td>0.0</td>\n",
       "      <td>0.0</td>\n",
       "      <td>0.0</td>\n",
       "      <td>0.0</td>\n",
       "      <td>1.0</td>\n",
       "    </tr>\n",
       "  </tbody>\n",
       "</table>\n",
       "<p>5 rows × 38 columns</p>\n",
       "</div>"
      ],
      "text/plain": [
       "   job_admin.  job_blue-collar  job_entrepreneur  job_housemaid  \\\n",
       "0         0.0              0.0               0.0            0.0   \n",
       "1         0.0              0.0               0.0            0.0   \n",
       "2         0.0              0.0               1.0            0.0   \n",
       "3         0.0              1.0               0.0            0.0   \n",
       "4         0.0              0.0               0.0            0.0   \n",
       "\n",
       "   job_management  job_retired  job_self-employed  job_services  job_student  \\\n",
       "0             1.0          0.0                0.0           0.0          0.0   \n",
       "1             0.0          0.0                0.0           0.0          0.0   \n",
       "2             0.0          0.0                0.0           0.0          0.0   \n",
       "3             0.0          0.0                0.0           0.0          0.0   \n",
       "4             0.0          0.0                0.0           0.0          0.0   \n",
       "\n",
       "   job_technician  ...  month_jun\"\"  month_mar\"\"  month_may\"\"  month_nov\"\"  \\\n",
       "0             0.0  ...          0.0          0.0          1.0          0.0   \n",
       "1             1.0  ...          0.0          0.0          1.0          0.0   \n",
       "2             0.0  ...          0.0          0.0          1.0          0.0   \n",
       "3             0.0  ...          0.0          0.0          1.0          0.0   \n",
       "4             0.0  ...          0.0          0.0          1.0          0.0   \n",
       "\n",
       "   month_oct\"\"  month_sep\"\"  poutcome_failure\"\"  poutcome_other\"\"  \\\n",
       "0          0.0          0.0                 0.0               0.0   \n",
       "1          0.0          0.0                 0.0               0.0   \n",
       "2          0.0          0.0                 0.0               0.0   \n",
       "3          0.0          0.0                 0.0               0.0   \n",
       "4          0.0          0.0                 0.0               0.0   \n",
       "\n",
       "   poutcome_success\"\"  poutcome_unknown  \n",
       "0                 0.0               1.0  \n",
       "1                 0.0               1.0  \n",
       "2                 0.0               1.0  \n",
       "3                 0.0               1.0  \n",
       "4                 0.0               1.0  \n",
       "\n",
       "[5 rows x 38 columns]"
      ]
     },
     "execution_count": 122,
     "metadata": {},
     "output_type": "execute_result"
    }
   ],
   "source": [
    "# Create the OneHotEncoder instance\n",
    "enc = OneHotEncoder(sparse=False)\n",
    "\n",
    "# Fit the encoder and produce encoded DataFrame\n",
    "encode_df = pd.DataFrame(enc.fit_transform(bank_df[bank_list]))\n",
    "\n",
    "# Rename encoded columns\n",
    "encode_df.columns = enc.get_feature_names(bank_list)\n",
    "encode_df.head()"
   ]
  },
  {
   "cell_type": "code",
   "execution_count": 128,
   "metadata": {},
   "outputs": [
    {
     "name": "stderr",
     "output_type": "stream",
     "text": [
      "C:\\Users\\rab_b\\AppData\\Local\\Temp\\ipykernel_1648\\1299072144.py:2: FutureWarning: In a future version of pandas all arguments of DataFrame.drop except for the argument 'labels' will be keyword-only.\n",
      "  bank_df=bank_df.merge(encode_df,left_index=True,right_index=True).drop(bank_list,1)\n"
     ]
    }
   ],
   "source": [
    "# Merge the two DataFrames together and drop the Country column\n",
    "bank_df=bank_df.merge(encode_df,left_index=True,right_index=True).drop(bank_list,1)"
   ]
  },
  {
   "cell_type": "code",
   "execution_count": 129,
   "metadata": {},
   "outputs": [
    {
     "data": {
      "text/plain": [
       "age                      int64\n",
       "credit_default            bool\n",
       "balance                  int64\n",
       "housing_loan              bool\n",
       "personal_loan             bool\n",
       "day                      int64\n",
       "duration(sec)            int64\n",
       "campaign                 int64\n",
       "pdays                    int64\n",
       "previous                 int64\n",
       "subscription              bool\n",
       "job_admin.             float64\n",
       "job_blue-collar        float64\n",
       "job_entrepreneur       float64\n",
       "job_housemaid          float64\n",
       "job_management         float64\n",
       "job_retired            float64\n",
       "job_self-employed      float64\n",
       "job_services           float64\n",
       "job_student            float64\n",
       "job_technician         float64\n",
       "job_unemployed         float64\n",
       "job_unknown            float64\n",
       "marital_divorced\"\"     float64\n",
       "marital_married        float64\n",
       "marital_single         float64\n",
       "education_primary      float64\n",
       "education_secondary    float64\n",
       "education_tertiary     float64\n",
       "education_unknown      float64\n",
       "contact_cellular\"\"     float64\n",
       "contact_telephone\"\"    float64\n",
       "contact_unknown        float64\n",
       "month_apr\"\"            float64\n",
       "month_aug\"\"            float64\n",
       "month_dec\"\"            float64\n",
       "month_feb\"\"            float64\n",
       "month_jan\"\"            float64\n",
       "month_jul\"\"            float64\n",
       "month_jun\"\"            float64\n",
       "month_mar\"\"            float64\n",
       "month_may\"\"            float64\n",
       "month_nov\"\"            float64\n",
       "month_oct\"\"            float64\n",
       "month_sep\"\"            float64\n",
       "poutcome_failure\"\"     float64\n",
       "poutcome_other\"\"       float64\n",
       "poutcome_success\"\"     float64\n",
       "poutcome_unknown       float64\n",
       "dtype: object"
      ]
     },
     "execution_count": 129,
     "metadata": {},
     "output_type": "execute_result"
    }
   ],
   "source": [
    "bank_df.dtypes"
   ]
  },
  {
   "cell_type": "code",
   "execution_count": 130,
   "metadata": {},
   "outputs": [],
   "source": [
    "# set up data x and y\n",
    "y = bank_df.subscription\n",
    "X = bank_df.drop(columns=\"subscription\")"
   ]
  },
  {
   "cell_type": "code",
   "execution_count": 131,
   "metadata": {},
   "outputs": [],
   "source": [
    "# Split training/test datasets\n",
    "X_train, X_test, y_train, y_test = train_test_split(X, y, random_state=1)"
   ]
  },
  {
   "cell_type": "code",
   "execution_count": 132,
   "metadata": {},
   "outputs": [],
   "source": [
    "# Create a StandardScaler instance\n",
    "scaler = StandardScaler()\n",
    "\n",
    "# Fit the StandardScaler\n",
    "X_scaler = scaler.fit(X_train)\n",
    "\n",
    "# Scale the data\n",
    "X_train_scaled = X_scaler.transform(X_train)\n",
    "X_test_scaled = X_scaler.transform(X_test)"
   ]
  },
  {
   "cell_type": "code",
   "execution_count": 134,
   "metadata": {},
   "outputs": [
    {
     "name": "stdout",
     "output_type": "stream",
     "text": [
      " Logistic regression model accuracy: 0.901\n"
     ]
    }
   ],
   "source": [
    "# Define the logistic regression model\n",
    "log_classifier = LogisticRegression(solver=\"lbfgs\",max_iter=200)\n",
    "\n",
    "# Train the model\n",
    "log_classifier.fit(X_train_scaled,y_train)\n",
    "\n",
    "# Evaluate the model\n",
    "y_pred = log_classifier.predict(X_test_scaled)\n",
    "print(f\" Logistic regression model accuracy: {accuracy_score(y_test,y_pred):.3f}\")"
   ]
  },
  {
   "cell_type": "code",
   "execution_count": 137,
   "metadata": {},
   "outputs": [
    {
     "name": "stdout",
     "output_type": "stream",
     "text": [
      " Random forest predictive accuracy: 0.905\n"
     ]
    }
   ],
   "source": [
    "# Create a random forest classifier.\n",
    "rf_model = RandomForestClassifier(n_estimators=128, random_state=1)\n",
    "\n",
    "# Fitting the model\n",
    "rf_model = rf_model.fit(X_train_scaled, y_train)\n",
    "\n",
    "# Evaluate the model\n",
    "y_pred = rf_model.predict(X_test_scaled)\n",
    "print(f\" Random forest predictive accuracy: {accuracy_score(y_test,y_pred):.3f}\")"
   ]
  }
 ],
 "metadata": {
  "interpreter": {
   "hash": "a141b5ff9140161ae2f0ff1e53d25b25d1bd5ccc57147b9f573da7c59c1b3e49"
  },
  "kernelspec": {
   "display_name": "Python 3.9.7 ('base')",
   "language": "python",
   "name": "python3"
  },
  "language_info": {
   "name": "python",
   "version": "3.9.7"
  },
  "orig_nbformat": 4
 },
 "nbformat": 4,
 "nbformat_minor": 2
}
